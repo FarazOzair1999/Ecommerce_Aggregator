{
 "cells": [
  {
   "cell_type": "code",
   "execution_count": 8,
   "metadata": {},
   "outputs": [
    {
     "name": "stderr",
     "output_type": "stream",
     "text": [
      "<ipython-input-8-43f952c4b1bd>:57: SKCriteriaDeprecationWarning: Call to deprecated class MinimizeToMaximize. (Use 'skcriteria.preprocessing.InvertMinimize' instead) -- Deprecated since version 0.7.\n",
      "  inverter = invert_objectives.MinimizeToMaximize()\n"
     ]
    },
    {
     "ename": "TypeError",
     "evalue": "'method' object is not subscriptable",
     "output_type": "error",
     "traceback": [
      "\u001b[1;31m---------------------------------------------------------------------------\u001b[0m",
      "\u001b[1;31mTypeError\u001b[0m                                 Traceback (most recent call last)",
      "\u001b[1;32m<ipython-input-8-43f952c4b1bd>\u001b[0m in \u001b[0;36m<module>\u001b[1;34m\u001b[0m\n\u001b[0;32m     70\u001b[0m     \u001b[0mfiltered\u001b[0m \u001b[1;33m=\u001b[0m \u001b[0mresult\u001b[0m\u001b[1;33m.\u001b[0m\u001b[0mfilter\u001b[0m\u001b[1;33m[\u001b[0m\u001b[1;33m(\u001b[0m\u001b[0mresult\u001b[0m\u001b[1;33m[\u001b[0m\u001b[1;34m'MOQs'\u001b[0m\u001b[1;33m]\u001b[0m\u001b[1;33m>\u001b[0m\u001b[0mmoq\u001b[0m\u001b[1;33m)\u001b[0m \u001b[1;33m&\u001b[0m \u001b[1;33m(\u001b[0m\u001b[0mresult\u001b[0m\u001b[1;33m[\u001b[0m\u001b[1;34m'min_price'\u001b[0m\u001b[1;33m]\u001b[0m\u001b[1;33m>\u001b[0m\u001b[0mminp\u001b[0m\u001b[1;33m)\u001b[0m \u001b[1;33m&\u001b[0m \u001b[0mresult\u001b[0m\u001b[1;33m[\u001b[0m\u001b[1;34m'max_price'\u001b[0m\u001b[1;33m]\u001b[0m\u001b[1;33m<\u001b[0m\u001b[0mmaxp\u001b[0m\u001b[1;33m]\u001b[0m\u001b[1;33m\u001b[0m\u001b[1;33m\u001b[0m\u001b[0m\n\u001b[0;32m     71\u001b[0m     \u001b[0mprint\u001b[0m\u001b[1;33m(\u001b[0m\u001b[0mfiltered\u001b[0m\u001b[1;33m[\u001b[0m\u001b[1;34m'MOQs'\u001b[0m\u001b[1;33m]\u001b[0m\u001b[1;33m)\u001b[0m\u001b[1;33m\u001b[0m\u001b[1;33m\u001b[0m\u001b[0m\n\u001b[1;32m---> 72\u001b[1;33m \u001b[0mfinal_ranking\u001b[0m\u001b[1;33m(\u001b[0m\u001b[1;36m4\u001b[0m\u001b[1;33m,\u001b[0m\u001b[1;36m1\u001b[0m\u001b[1;33m,\u001b[0m\u001b[1;36m2000\u001b[0m\u001b[1;33m)\u001b[0m\u001b[1;33m\u001b[0m\u001b[1;33m\u001b[0m\u001b[0m\n\u001b[0m\u001b[0;32m     73\u001b[0m     \u001b[1;31m# json_str = filtered.to_json(orient='records' ,date_format='iso')\u001b[0m\u001b[1;33m\u001b[0m\u001b[1;33m\u001b[0m\u001b[1;33m\u001b[0m\u001b[0m\n\u001b[0;32m     74\u001b[0m     \u001b[1;31m# parsed = json.loads(json_str)\u001b[0m\u001b[1;33m\u001b[0m\u001b[1;33m\u001b[0m\u001b[1;33m\u001b[0m\u001b[0m\n",
      "\u001b[1;32m<ipython-input-8-43f952c4b1bd>\u001b[0m in \u001b[0;36mfinal_ranking\u001b[1;34m(moq, minp, maxp)\u001b[0m\n\u001b[0;32m     68\u001b[0m     \u001b[0mresult\u001b[0m \u001b[1;33m=\u001b[0m \u001b[0mresult\u001b[0m\u001b[1;33m.\u001b[0m\u001b[0msort_values\u001b[0m\u001b[1;33m(\u001b[0m\u001b[0mby\u001b[0m\u001b[1;33m=\u001b[0m\u001b[1;33m[\u001b[0m\u001b[1;34m'Rank'\u001b[0m\u001b[1;33m]\u001b[0m\u001b[1;33m,\u001b[0m \u001b[0mascending\u001b[0m\u001b[1;33m=\u001b[0m\u001b[1;32mTrue\u001b[0m\u001b[1;33m)\u001b[0m\u001b[1;33m\u001b[0m\u001b[1;33m\u001b[0m\u001b[0m\n\u001b[0;32m     69\u001b[0m     \u001b[0mresult\u001b[0m \u001b[1;33m=\u001b[0m \u001b[0mresult\u001b[0m\u001b[1;33m.\u001b[0m\u001b[0mdrop_duplicates\u001b[0m\u001b[1;33m(\u001b[0m\u001b[1;34m'Rank'\u001b[0m\u001b[1;33m)\u001b[0m\u001b[1;33m\u001b[0m\u001b[1;33m\u001b[0m\u001b[0m\n\u001b[1;32m---> 70\u001b[1;33m     \u001b[0mfiltered\u001b[0m \u001b[1;33m=\u001b[0m \u001b[0mresult\u001b[0m\u001b[1;33m.\u001b[0m\u001b[0mfilter\u001b[0m\u001b[1;33m[\u001b[0m\u001b[1;33m(\u001b[0m\u001b[0mresult\u001b[0m\u001b[1;33m[\u001b[0m\u001b[1;34m'MOQs'\u001b[0m\u001b[1;33m]\u001b[0m\u001b[1;33m>\u001b[0m\u001b[0mmoq\u001b[0m\u001b[1;33m)\u001b[0m \u001b[1;33m&\u001b[0m \u001b[1;33m(\u001b[0m\u001b[0mresult\u001b[0m\u001b[1;33m[\u001b[0m\u001b[1;34m'min_price'\u001b[0m\u001b[1;33m]\u001b[0m\u001b[1;33m>\u001b[0m\u001b[0mminp\u001b[0m\u001b[1;33m)\u001b[0m \u001b[1;33m&\u001b[0m \u001b[0mresult\u001b[0m\u001b[1;33m[\u001b[0m\u001b[1;34m'max_price'\u001b[0m\u001b[1;33m]\u001b[0m\u001b[1;33m<\u001b[0m\u001b[0mmaxp\u001b[0m\u001b[1;33m]\u001b[0m\u001b[1;33m\u001b[0m\u001b[1;33m\u001b[0m\u001b[0m\n\u001b[0m\u001b[0;32m     71\u001b[0m     \u001b[0mprint\u001b[0m\u001b[1;33m(\u001b[0m\u001b[0mfiltered\u001b[0m\u001b[1;33m[\u001b[0m\u001b[1;34m'MOQs'\u001b[0m\u001b[1;33m]\u001b[0m\u001b[1;33m)\u001b[0m\u001b[1;33m\u001b[0m\u001b[1;33m\u001b[0m\u001b[0m\n\u001b[0;32m     72\u001b[0m \u001b[0mfinal_ranking\u001b[0m\u001b[1;33m(\u001b[0m\u001b[1;36m4\u001b[0m\u001b[1;33m,\u001b[0m\u001b[1;36m1\u001b[0m\u001b[1;33m,\u001b[0m\u001b[1;36m2000\u001b[0m\u001b[1;33m)\u001b[0m\u001b[1;33m\u001b[0m\u001b[1;33m\u001b[0m\u001b[0m\n",
      "\u001b[1;31mTypeError\u001b[0m: 'method' object is not subscriptable"
     ]
    }
   ],
   "source": [
    "from matplotlib.font_manager import json_load\n",
    "import pandas as pd\n",
    "import seaborn as sns\n",
    "from sklearn.preprocessing import minmax_scale\n",
    "from skcriteria.preprocessing.scalers import MaxScaler, MinMaxScaler\n",
    "import skcriteria as skc\n",
    "from skcriteria.preprocessing import invert_objectives, scalers\n",
    "from skcriteria.madm import simple\n",
    "import json\n",
    "\n",
    "def final_ranking(moq,minp,maxp):\n",
    "    alibaba = pd.read_json(r'alibaba_rank.json')\n",
    "    dhgate = pd.read_json(r'dhgate_rank.json')\n",
    "    ecplaza = pd.read_json(r'ecplaza_rank.json')\n",
    "    madeinchina = pd.read_json(r'madeinchina_rank.json')\n",
    "    matrix = []\n",
    "    alter =[]\n",
    "    for i in range(len(alibaba)):\n",
    "        alter.append(alibaba.iloc[i,7])\n",
    "        m = []\n",
    "        m.append(alibaba.iloc[i,4])\n",
    "        m.append(alibaba.iloc[i,9])\n",
    "        m.append(alibaba.iloc[i,8])\n",
    "        m.append(alibaba.iloc[i,10])\n",
    "        matrix.append(m)\n",
    "    for i in range(len(dhgate)):\n",
    "        alter.append(dhgate.iloc[i,7])\n",
    "        m = []\n",
    "        m.append(dhgate.iloc[i,2])\n",
    "        m.append(dhgate.iloc[i,8])\n",
    "        m.append(dhgate.iloc[i,9])\n",
    "        m.append(dhgate.iloc[i,10])\n",
    "        matrix.append(m)\n",
    "    for i in range(len(ecplaza)):\n",
    "        alter.append(ecplaza.iloc[i,6])\n",
    "        m = []\n",
    "        m.append(ecplaza.iloc[i,2])\n",
    "        m.append(ecplaza.iloc[i,7])\n",
    "        m.append(ecplaza.iloc[i,8])\n",
    "        m.append(ecplaza.iloc[i,9])\n",
    "        matrix.append(m)\n",
    "    for i in range(len(madeinchina)):\n",
    "        alter.append(madeinchina.iloc[i,5])\n",
    "        m = []\n",
    "        m.append(madeinchina.iloc[i,2])\n",
    "        m.append(madeinchina.iloc[i,6])\n",
    "        m.append(madeinchina.iloc[i,7])\n",
    "        m.append(madeinchina.iloc[i,8])\n",
    "        matrix.append(m)\n",
    "    criteria_data = skc.mkdm(\n",
    "    matrix = matrix,          # the pandas dataframe\n",
    "    objectives = [min, min, min, min],\n",
    "    alternatives = alter,      # direction of goodness for each column\n",
    "    criteria = [\"moq\",\"min_price\",\"max_price\",\"rank\"], # attribute/column name\n",
    "    weights =  [0.05,0.25,0.2,0.5]    # weights for each attribute (based on google form data collection)\n",
    "    )\n",
    "    inverter = invert_objectives.MinimizeToMaximize()\n",
    "    criteria_data = inverter.transform(criteria_data)\n",
    "\n",
    "    scaler = scalers.SumScaler(target=\"matrix\")\n",
    "    criteria_data = scaler.transform(criteria_data)\n",
    "    # weighted sum\n",
    "    dm = simple.WeightedSumModel()\n",
    "    rank = dm.evaluate(criteria_data)\n",
    "    result = pd.concat([alibaba, dhgate,ecplaza,madeinchina], ignore_index=True, sort=False)\n",
    "    result = result.drop_duplicates('supplier_id')\n",
    "    result['Rank'] = rank.rank_\n",
    "    result = result.sort_values(by=['Rank'], ascending=True)\n",
    "    result = result.drop_duplicates('Rank')\n",
    "    filtered = result[(result['MOQs']>moq) & (result['min_price']>minp) & result['max_price']<maxp]\n",
    "    print(filtered['MOQs']) \n",
    "final_ranking(4,1,2000)\n",
    "    # json_str = filtered.to_json(orient='records' ,date_format='iso')\n",
    "    # parsed = json.loads(json_str)\n",
    "    \n",
    "    # with open('result.json', 'w') as json_file:\n",
    "    #     json_file.write(json.dumps({\"products\": parsed} ))\n"
   ]
  }
 ],
 "metadata": {
  "interpreter": {
   "hash": "20a9e06a1eee47c4abbed4ec8225ad91d78d9800d202b71b6b0a6e47016c6abd"
  },
  "kernelspec": {
   "display_name": "Python 3.8.8 ('base')",
   "language": "python",
   "name": "python3"
  },
  "language_info": {
   "codemirror_mode": {
    "name": "ipython",
    "version": 3
   },
   "file_extension": ".py",
   "mimetype": "text/x-python",
   "name": "python",
   "nbconvert_exporter": "python",
   "pygments_lexer": "ipython3",
   "version": "3.8.8"
  },
  "orig_nbformat": 4
 },
 "nbformat": 4,
 "nbformat_minor": 2
}
